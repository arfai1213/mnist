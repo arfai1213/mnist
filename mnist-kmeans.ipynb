{
 "cells": [
  {
   "cell_type": "code",
   "execution_count": 2,
   "metadata": {},
   "outputs": [],
   "source": [
    "%config IPCompleter.greedy=True"
   ]
  },
  {
   "cell_type": "code",
   "execution_count": 3,
   "metadata": {},
   "outputs": [],
   "source": [
    "from pyspark import SparkContext\n",
    "\n",
    "sc = SparkContext()"
   ]
  },
  {
   "cell_type": "code",
   "execution_count": 4,
   "metadata": {},
   "outputs": [],
   "source": [
    "def parse(line):\n",
    "    return [int(x) for x in line.split(\",\")]"
   ]
  },
  {
   "cell_type": "code",
   "execution_count": 5,
   "metadata": {},
   "outputs": [],
   "source": [
    "from itertools import islice\n",
    "\n",
    "training_data = sc.textFile('./mnist/mnist_train.csv')\\\n",
    "        .mapPartitionsWithIndex(\n",
    "            lambda idx, it: islice(it, 1, None) if idx == 0 else it \n",
    "        )\\\n",
    "        .map(parse)\n",
    "\n",
    "test_data = sc.textFile('./mnist/mnist_test.csv')\\\n",
    "        .mapPartitionsWithIndex(\n",
    "            lambda idx, it: islice(it, 1, None) if idx == 0 else it \n",
    "        )\\\n",
    "        .map(parse)"
   ]
  },
  {
   "cell_type": "code",
   "execution_count": 6,
   "metadata": {},
   "outputs": [],
   "source": [
    "from pyspark.mllib.clustering import KMeans, KMeansModel"
   ]
  },
  {
   "cell_type": "code",
   "execution_count": 42,
   "metadata": {},
   "outputs": [],
   "source": [
    "# Build the model (cluster the data)\n",
    "clusters = KMeans.train(training_data.map(lambda d: d[1:]), 10, maxIterations=10, initializationMode=\"random\")"
   ]
  },
  {
   "cell_type": "code",
   "execution_count": 43,
   "metadata": {},
   "outputs": [],
   "source": [
    "predict_cluster = test_data.map(lambda d: {\"label\": d[0], \"cluster\": clusters.predict(d[1:]), \"features\": d[1:]})"
   ]
  },
  {
   "cell_type": "code",
   "execution_count": 44,
   "metadata": {},
   "outputs": [],
   "source": [
    "cluster_samples = predict_cluster"
   ]
  },
  {
   "cell_type": "code",
   "execution_count": 45,
   "metadata": {},
   "outputs": [],
   "source": [
    "import numpy as np\n",
    "import pandas as pd"
   ]
  },
  {
   "cell_type": "code",
   "execution_count": 47,
   "metadata": {},
   "outputs": [
    {
     "name": "stdout",
     "output_type": "stream",
     "text": [
      "               features\n",
      "cluster label          \n",
      "0       0             2\n",
      "        1             1\n",
      "        2            23\n",
      "        3            15\n",
      "        4           546\n",
      "        5            59\n",
      "        6             8\n",
      "        7            81\n",
      "        8            32\n",
      "        9           520\n",
      "1       0             1\n",
      "        2             9\n",
      "        3             3\n",
      "        4             4\n",
      "        5             7\n",
      "        7           610\n",
      "        8             9\n",
      "        9            68\n",
      "2       0           767\n",
      "        2            14\n",
      "        3             1\n",
      "        5             6\n",
      "        6            13\n",
      "        7             1\n",
      "        8             7\n",
      "        9             7\n",
      "3       0             2\n",
      "        1          1106\n",
      "        2           145\n",
      "        3            58\n",
      "        4            27\n",
      "        5            82\n",
      "        6            25\n",
      "        7            76\n",
      "        8            77\n",
      "        9            22\n",
      "4       0            28\n",
      "        2            12\n",
      "        3             2\n",
      "        4            20\n",
      "        5             5\n",
      "        6           492\n",
      "        8             7\n",
      "        9             8\n",
      "5       0             6\n",
      "        1            18\n",
      "        2           705\n",
      "        3            48\n",
      "        4             2\n",
      "        5             4\n",
      "        6             1\n",
      "        7            15\n",
      "        8             9\n",
      "        9             2\n",
      "6       0           105\n",
      "        1             2\n",
      "        2            16\n",
      "        3            20\n",
      "        4            31\n",
      "        5            57\n",
      "        6           413\n",
      "        8            14\n",
      "        9             2\n",
      "7       0            54\n",
      "        1             3\n",
      "        2            70\n",
      "        3           681\n",
      "        5           277\n",
      "        6             3\n",
      "        8           180\n",
      "        9             7\n",
      "8       0             3\n",
      "        2             7\n",
      "        3             9\n",
      "        4           352\n",
      "        5           139\n",
      "        6             3\n",
      "        7           244\n",
      "        8            60\n",
      "        9           355\n",
      "9       0            12\n",
      "        1             5\n",
      "        2            31\n",
      "        3           173\n",
      "        5           256\n",
      "        7             1\n",
      "        8           579\n",
      "        9            18\n"
     ]
    }
   ],
   "source": [
    "df = pd.DataFrame(cluster_samples.collect())\n",
    "\n",
    "cluster_count = df.groupby(['cluster', 'label']).count()\n",
    "\n",
    "with pd.option_context('display.max_rows', None, 'display.max_columns', None):  # more options can be specified also\n",
    "    print(cluster_count)"
   ]
  },
  {
   "cell_type": "code",
   "execution_count": 49,
   "metadata": {},
   "outputs": [],
   "source": [
    "clusters.save(sc, './mnist-kmeans')"
   ]
  },
  {
   "cell_type": "code",
   "execution_count": null,
   "metadata": {},
   "outputs": [],
   "source": []
  }
 ],
 "metadata": {
  "kernelspec": {
   "display_name": "Python 3",
   "language": "python",
   "name": "python3"
  },
  "language_info": {
   "codemirror_mode": {
    "name": "ipython",
    "version": 3
   },
   "file_extension": ".py",
   "mimetype": "text/x-python",
   "name": "python",
   "nbconvert_exporter": "python",
   "pygments_lexer": "ipython3",
   "version": "3.7.3"
  }
 },
 "nbformat": 4,
 "nbformat_minor": 2
}
